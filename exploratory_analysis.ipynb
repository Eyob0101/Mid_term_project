{
 "cells": [
  {
   "cell_type": "markdown",
   "metadata": {},
   "source": [
    "## Exploratory Data Analysis\n",
    "\n",
    "Use this notebook to get familiar with the datasets we have. There is 10 questions we need to answer during the EDA.\n",
    "\n",
    "\n",
    "We shouldn't limit our EDA to these 10 questions. Let's be creative :)."
   ]
  },
  {
   "cell_type": "markdown",
   "metadata": {},
   "source": [
    "#### Table flights_test\n",
    "This table consists of subset of columns from table flights. It represents flights from January 2020 which will be used for evaluation. Therefore, we are missing some features that we are not suppossed to know before the flight lands.\n",
    "\n",
    "##### Variables:\n",
    "\n",
    "__fl_date__: Flight Date (yyyy-mm-dd)  \n",
    "__mkt_unique_carrier__: Unique Marketing Carrier Code. When the same code has been used by multiple carriers, a numeric suffix is used for earlier users, for example, PA, PA(1), PA(2). Use this field for analysis across a range of years.  \n",
    "__branded_code_share__: Reporting Carrier Operated or Branded Code Share Partners  \n",
    "__mkt_carrier__: Code assigned by IATA and commonly used to identify a carrier. As the same code may have been assigned to different carriers over time, the code is not always unique. For analysis, use the Unique Carrier Code.  \n",
    "__mkt_carrier_fl_num__: Flight Number  \n",
    "__op_unique_carrier__: Unique Scheduled Operating Carrier Code. When the same code has been used by multiple carriers, a numeric suffix is used for earlier users,for example, PA, PA(1), PA(2). Use this field for analysis across a range of years.  \n",
    "__tail_num__: Tail Number  \n",
    "__op_carrier_fl_num__: Flight Number  \n",
    "__origin_airport_id__: Origin Airport, Airport ID. An identification number assigned by US DOT to identify a unique airport. Use this field for airport analysis across a range of years because an airport can change its airport code and airport codes can be reused.  \n",
    "__origin__: Origin Airport  \n",
    "__origin_city_name__: Origin Airport, City Name  \n",
    "__dest_airport_id__: Destination Airport, Airport ID. An identification number assigned by US DOT to identify a unique airport. Use this field for airport analysis across a range of years because an airport can change its airport code and airport codes can be reused.  \n",
    "__dest__: Destination Airport  \n",
    "__dest_city_name__: Destination Airport, City Name  \n",
    "__crs_dep_time__: CRS Departure Time (local time: hhmm)  \n",
    "__crs_arr_time__: CRS Arrival Time (local time: hhmm)  \n",
    "__dup__: Duplicate flag marked Y if the flight is swapped based on Form-3A data  \n",
    "__crs_elapsed_time__: CRS Elapsed Time of Flight, in Minutes  \n",
    "__flights__: Number of Flights  \n",
    "__distance__: Distance between airports (miles)  "
   ]
  },
  {
   "cell_type": "code",
   "execution_count": 1,
   "metadata": {},
   "outputs": [],
   "source": [
    "import pandas as pd\n",
    "import matplotlib.pyplot as plt\n",
    "import seaborn as sns\n",
    "import numpy as np\n",
    "import collections"
   ]
  },
  {
   "cell_type": "code",
   "execution_count": 2,
   "metadata": {},
   "outputs": [],
   "source": [
    "df = pd.read_csv('data/train_data_raw.csv')"
   ]
  },
  {
   "cell_type": "code",
   "execution_count": 3,
   "metadata": {},
   "outputs": [
    {
     "data": {
      "text/plain": [
       "(300000, 41)"
      ]
     },
     "execution_count": 3,
     "metadata": {},
     "output_type": "execute_result"
    }
   ],
   "source": [
    "df.shape"
   ]
  },
  {
   "cell_type": "code",
   "execution_count": 4,
   "metadata": {},
   "outputs": [
    {
     "data": {
      "text/html": [
       "<div>\n",
       "<style scoped>\n",
       "    .dataframe tbody tr th:only-of-type {\n",
       "        vertical-align: middle;\n",
       "    }\n",
       "\n",
       "    .dataframe tbody tr th {\n",
       "        vertical-align: top;\n",
       "    }\n",
       "\n",
       "    .dataframe thead th {\n",
       "        text-align: right;\n",
       "    }\n",
       "</style>\n",
       "<table border=\"1\" class=\"dataframe\">\n",
       "  <thead>\n",
       "    <tr style=\"text-align: right;\">\n",
       "      <th></th>\n",
       "      <th>fl_date</th>\n",
       "      <th>mkt_unique_carrier</th>\n",
       "      <th>branded_code_share</th>\n",
       "      <th>mkt_carrier</th>\n",
       "      <th>mkt_carrier_fl_num</th>\n",
       "      <th>op_unique_carrier</th>\n",
       "      <th>tail_num</th>\n",
       "      <th>op_carrier_fl_num</th>\n",
       "      <th>origin_airport_id</th>\n",
       "      <th>origin</th>\n",
       "      <th>...</th>\n",
       "      <th>flights</th>\n",
       "      <th>distance</th>\n",
       "      <th>carrier_delay</th>\n",
       "      <th>weather_delay</th>\n",
       "      <th>nas_delay</th>\n",
       "      <th>security_delay</th>\n",
       "      <th>late_aircraft_delay</th>\n",
       "      <th>first_dep_time</th>\n",
       "      <th>total_add_gtime</th>\n",
       "      <th>longest_add_gtime</th>\n",
       "    </tr>\n",
       "  </thead>\n",
       "  <tbody>\n",
       "    <tr>\n",
       "      <th>0</th>\n",
       "      <td>2019-01-07</td>\n",
       "      <td>DL</td>\n",
       "      <td>DL</td>\n",
       "      <td>DL</td>\n",
       "      <td>2185</td>\n",
       "      <td>DL</td>\n",
       "      <td>N378DA</td>\n",
       "      <td>2185</td>\n",
       "      <td>10721</td>\n",
       "      <td>BOS</td>\n",
       "      <td>...</td>\n",
       "      <td>1.0</td>\n",
       "      <td>1124.0</td>\n",
       "      <td>NaN</td>\n",
       "      <td>NaN</td>\n",
       "      <td>NaN</td>\n",
       "      <td>NaN</td>\n",
       "      <td>NaN</td>\n",
       "      <td>NaN</td>\n",
       "      <td>NaN</td>\n",
       "      <td>NaN</td>\n",
       "    </tr>\n",
       "    <tr>\n",
       "      <th>1</th>\n",
       "      <td>2019-01-27</td>\n",
       "      <td>WN</td>\n",
       "      <td>WN</td>\n",
       "      <td>WN</td>\n",
       "      <td>5073</td>\n",
       "      <td>WN</td>\n",
       "      <td>N8719Q</td>\n",
       "      <td>5073</td>\n",
       "      <td>15304</td>\n",
       "      <td>TPA</td>\n",
       "      <td>...</td>\n",
       "      <td>1.0</td>\n",
       "      <td>1788.0</td>\n",
       "      <td>NaN</td>\n",
       "      <td>NaN</td>\n",
       "      <td>NaN</td>\n",
       "      <td>NaN</td>\n",
       "      <td>NaN</td>\n",
       "      <td>NaN</td>\n",
       "      <td>NaN</td>\n",
       "      <td>NaN</td>\n",
       "    </tr>\n",
       "    <tr>\n",
       "      <th>2</th>\n",
       "      <td>2019-01-27</td>\n",
       "      <td>AA</td>\n",
       "      <td>AA</td>\n",
       "      <td>AA</td>\n",
       "      <td>1684</td>\n",
       "      <td>AA</td>\n",
       "      <td>N702UW</td>\n",
       "      <td>1684</td>\n",
       "      <td>14100</td>\n",
       "      <td>PHL</td>\n",
       "      <td>...</td>\n",
       "      <td>1.0</td>\n",
       "      <td>666.0</td>\n",
       "      <td>NaN</td>\n",
       "      <td>NaN</td>\n",
       "      <td>NaN</td>\n",
       "      <td>NaN</td>\n",
       "      <td>NaN</td>\n",
       "      <td>NaN</td>\n",
       "      <td>NaN</td>\n",
       "      <td>NaN</td>\n",
       "    </tr>\n",
       "    <tr>\n",
       "      <th>3</th>\n",
       "      <td>2019-01-28</td>\n",
       "      <td>UA</td>\n",
       "      <td>UA_CODESHARE</td>\n",
       "      <td>UA</td>\n",
       "      <td>3592</td>\n",
       "      <td>YX</td>\n",
       "      <td>N642RW</td>\n",
       "      <td>3592</td>\n",
       "      <td>13296</td>\n",
       "      <td>MHT</td>\n",
       "      <td>...</td>\n",
       "      <td>1.0</td>\n",
       "      <td>209.0</td>\n",
       "      <td>NaN</td>\n",
       "      <td>NaN</td>\n",
       "      <td>NaN</td>\n",
       "      <td>NaN</td>\n",
       "      <td>NaN</td>\n",
       "      <td>NaN</td>\n",
       "      <td>NaN</td>\n",
       "      <td>NaN</td>\n",
       "    </tr>\n",
       "    <tr>\n",
       "      <th>4</th>\n",
       "      <td>2019-01-10</td>\n",
       "      <td>DL</td>\n",
       "      <td>DL</td>\n",
       "      <td>DL</td>\n",
       "      <td>1486</td>\n",
       "      <td>DL</td>\n",
       "      <td>N593NW</td>\n",
       "      <td>1486</td>\n",
       "      <td>14869</td>\n",
       "      <td>SLC</td>\n",
       "      <td>...</td>\n",
       "      <td>1.0</td>\n",
       "      <td>1931.0</td>\n",
       "      <td>NaN</td>\n",
       "      <td>NaN</td>\n",
       "      <td>NaN</td>\n",
       "      <td>NaN</td>\n",
       "      <td>NaN</td>\n",
       "      <td>NaN</td>\n",
       "      <td>NaN</td>\n",
       "      <td>NaN</td>\n",
       "    </tr>\n",
       "  </tbody>\n",
       "</table>\n",
       "<p>5 rows × 41 columns</p>\n",
       "</div>"
      ],
      "text/plain": [
       "      fl_date mkt_unique_carrier branded_code_share mkt_carrier  \\\n",
       "0  2019-01-07                 DL                 DL          DL   \n",
       "1  2019-01-27                 WN                 WN          WN   \n",
       "2  2019-01-27                 AA                 AA          AA   \n",
       "3  2019-01-28                 UA       UA_CODESHARE          UA   \n",
       "4  2019-01-10                 DL                 DL          DL   \n",
       "\n",
       "   mkt_carrier_fl_num op_unique_carrier tail_num  op_carrier_fl_num  \\\n",
       "0                2185                DL   N378DA               2185   \n",
       "1                5073                WN   N8719Q               5073   \n",
       "2                1684                AA   N702UW               1684   \n",
       "3                3592                YX   N642RW               3592   \n",
       "4                1486                DL   N593NW               1486   \n",
       "\n",
       "   origin_airport_id origin  ... flights  distance carrier_delay  \\\n",
       "0              10721    BOS  ...     1.0    1124.0           NaN   \n",
       "1              15304    TPA  ...     1.0    1788.0           NaN   \n",
       "2              14100    PHL  ...     1.0     666.0           NaN   \n",
       "3              13296    MHT  ...     1.0     209.0           NaN   \n",
       "4              14869    SLC  ...     1.0    1931.0           NaN   \n",
       "\n",
       "  weather_delay  nas_delay  security_delay  late_aircraft_delay  \\\n",
       "0           NaN        NaN             NaN                  NaN   \n",
       "1           NaN        NaN             NaN                  NaN   \n",
       "2           NaN        NaN             NaN                  NaN   \n",
       "3           NaN        NaN             NaN                  NaN   \n",
       "4           NaN        NaN             NaN                  NaN   \n",
       "\n",
       "   first_dep_time  total_add_gtime  longest_add_gtime  \n",
       "0             NaN              NaN                NaN  \n",
       "1             NaN              NaN                NaN  \n",
       "2             NaN              NaN                NaN  \n",
       "3             NaN              NaN                NaN  \n",
       "4             NaN              NaN                NaN  \n",
       "\n",
       "[5 rows x 41 columns]"
      ]
     },
     "execution_count": 4,
     "metadata": {},
     "output_type": "execute_result"
    }
   ],
   "source": [
    "df.head()"
   ]
  },
  {
   "cell_type": "code",
   "execution_count": 5,
   "metadata": {
    "scrolled": true
   },
   "outputs": [
    {
     "name": "stdout",
     "output_type": "stream",
     "text": [
      "<class 'pandas.core.frame.DataFrame'>\n",
      "RangeIndex: 300000 entries, 0 to 299999\n",
      "Data columns (total 41 columns):\n",
      " #   Column               Non-Null Count   Dtype  \n",
      "---  ------               --------------   -----  \n",
      " 0   fl_date              300000 non-null  object \n",
      " 1   mkt_unique_carrier   300000 non-null  object \n",
      " 2   branded_code_share   300000 non-null  object \n",
      " 3   mkt_carrier          300000 non-null  object \n",
      " 4   mkt_carrier_fl_num   300000 non-null  int64  \n",
      " 5   op_unique_carrier    300000 non-null  object \n",
      " 6   tail_num             298910 non-null  object \n",
      " 7   op_carrier_fl_num    300000 non-null  int64  \n",
      " 8   origin_airport_id    300000 non-null  int64  \n",
      " 9   origin               300000 non-null  object \n",
      " 10  origin_city_name     300000 non-null  object \n",
      " 11  dest_airport_id      300000 non-null  int64  \n",
      " 12  dest                 300000 non-null  object \n",
      " 13  dest_city_name       300000 non-null  object \n",
      " 14  crs_dep_time         300000 non-null  int64  \n",
      " 15  dep_time             294411 non-null  float64\n",
      " 16  dep_delay            294411 non-null  float64\n",
      " 17  taxi_out             294252 non-null  float64\n",
      " 18  wheels_off           294252 non-null  float64\n",
      " 19  wheels_on            294090 non-null  float64\n",
      " 20  taxi_in              294090 non-null  float64\n",
      " 21  crs_arr_time         300000 non-null  int64  \n",
      " 22  arr_time             294090 non-null  float64\n",
      " 23  arr_delay            293446 non-null  float64\n",
      " 24  cancelled            300000 non-null  float64\n",
      " 25  cancellation_code    5793 non-null    object \n",
      " 26  diverted             300000 non-null  float64\n",
      " 27  dup                  300000 non-null  object \n",
      " 28  crs_elapsed_time     300000 non-null  float64\n",
      " 29  actual_elapsed_time  293446 non-null  float64\n",
      " 30  air_time             293446 non-null  float64\n",
      " 31  flights              300000 non-null  float64\n",
      " 32  distance             300000 non-null  float64\n",
      " 33  carrier_delay        56793 non-null   float64\n",
      " 34  weather_delay        56793 non-null   float64\n",
      " 35  nas_delay            56793 non-null   float64\n",
      " 36  security_delay       56793 non-null   float64\n",
      " 37  late_aircraft_delay  56793 non-null   float64\n",
      " 38  first_dep_time       2141 non-null    float64\n",
      " 39  total_add_gtime      2141 non-null    float64\n",
      " 40  longest_add_gtime    2141 non-null    float64\n",
      "dtypes: float64(23), int64(6), object(12)\n",
      "memory usage: 93.8+ MB\n"
     ]
    }
   ],
   "source": [
    "df.info()"
   ]
  },
  {
   "cell_type": "code",
   "execution_count": 6,
   "metadata": {},
   "outputs": [
    {
     "data": {
      "text/plain": [
       "373"
      ]
     },
     "execution_count": 6,
     "metadata": {},
     "output_type": "execute_result"
    }
   ],
   "source": [
    "df['origin'].nunique()"
   ]
  },
  {
   "cell_type": "code",
   "execution_count": 7,
   "metadata": {},
   "outputs": [
    {
     "data": {
      "text/plain": [
       "373"
      ]
     },
     "execution_count": 7,
     "metadata": {},
     "output_type": "execute_result"
    }
   ],
   "source": [
    "df['origin_airport_id'].nunique()"
   ]
  },
  {
   "cell_type": "code",
   "execution_count": 8,
   "metadata": {},
   "outputs": [
    {
     "data": {
      "text/plain": [
       "365"
      ]
     },
     "execution_count": 8,
     "metadata": {},
     "output_type": "execute_result"
    }
   ],
   "source": [
    "df['origin_city_name'].nunique()"
   ]
  },
  {
   "cell_type": "code",
   "execution_count": 9,
   "metadata": {},
   "outputs": [
    {
     "data": {
      "text/html": [
       "<div>\n",
       "<style scoped>\n",
       "    .dataframe tbody tr th:only-of-type {\n",
       "        vertical-align: middle;\n",
       "    }\n",
       "\n",
       "    .dataframe tbody tr th {\n",
       "        vertical-align: top;\n",
       "    }\n",
       "\n",
       "    .dataframe thead th {\n",
       "        text-align: right;\n",
       "    }\n",
       "</style>\n",
       "<table border=\"1\" class=\"dataframe\">\n",
       "  <thead>\n",
       "    <tr style=\"text-align: right;\">\n",
       "      <th></th>\n",
       "      <th>origin</th>\n",
       "      <th>origin_airport_id</th>\n",
       "      <th>origin_city_name</th>\n",
       "    </tr>\n",
       "  </thead>\n",
       "  <tbody>\n",
       "    <tr>\n",
       "      <th>0</th>\n",
       "      <td>BOS</td>\n",
       "      <td>10721</td>\n",
       "      <td>Boston, MA</td>\n",
       "    </tr>\n",
       "    <tr>\n",
       "      <th>1</th>\n",
       "      <td>TPA</td>\n",
       "      <td>15304</td>\n",
       "      <td>Tampa, FL</td>\n",
       "    </tr>\n",
       "    <tr>\n",
       "      <th>2</th>\n",
       "      <td>PHL</td>\n",
       "      <td>14100</td>\n",
       "      <td>Philadelphia, PA</td>\n",
       "    </tr>\n",
       "    <tr>\n",
       "      <th>3</th>\n",
       "      <td>MHT</td>\n",
       "      <td>13296</td>\n",
       "      <td>Manchester, NH</td>\n",
       "    </tr>\n",
       "    <tr>\n",
       "      <th>4</th>\n",
       "      <td>SLC</td>\n",
       "      <td>14869</td>\n",
       "      <td>Salt Lake City, UT</td>\n",
       "    </tr>\n",
       "    <tr>\n",
       "      <th>...</th>\n",
       "      <td>...</td>\n",
       "      <td>...</td>\n",
       "      <td>...</td>\n",
       "    </tr>\n",
       "    <tr>\n",
       "      <th>299995</th>\n",
       "      <td>LAX</td>\n",
       "      <td>12892</td>\n",
       "      <td>Los Angeles, CA</td>\n",
       "    </tr>\n",
       "    <tr>\n",
       "      <th>299996</th>\n",
       "      <td>PHX</td>\n",
       "      <td>14107</td>\n",
       "      <td>Phoenix, AZ</td>\n",
       "    </tr>\n",
       "    <tr>\n",
       "      <th>299997</th>\n",
       "      <td>CLT</td>\n",
       "      <td>11057</td>\n",
       "      <td>Charlotte, NC</td>\n",
       "    </tr>\n",
       "    <tr>\n",
       "      <th>299998</th>\n",
       "      <td>CWA</td>\n",
       "      <td>11203</td>\n",
       "      <td>Mosinee, WI</td>\n",
       "    </tr>\n",
       "    <tr>\n",
       "      <th>299999</th>\n",
       "      <td>DFW</td>\n",
       "      <td>11298</td>\n",
       "      <td>Dallas/Fort Worth, TX</td>\n",
       "    </tr>\n",
       "  </tbody>\n",
       "</table>\n",
       "<p>300000 rows × 3 columns</p>\n",
       "</div>"
      ],
      "text/plain": [
       "       origin  origin_airport_id       origin_city_name\n",
       "0         BOS              10721             Boston, MA\n",
       "1         TPA              15304              Tampa, FL\n",
       "2         PHL              14100       Philadelphia, PA\n",
       "3         MHT              13296         Manchester, NH\n",
       "4         SLC              14869     Salt Lake City, UT\n",
       "...       ...                ...                    ...\n",
       "299995    LAX              12892        Los Angeles, CA\n",
       "299996    PHX              14107            Phoenix, AZ\n",
       "299997    CLT              11057          Charlotte, NC\n",
       "299998    CWA              11203            Mosinee, WI\n",
       "299999    DFW              11298  Dallas/Fort Worth, TX\n",
       "\n",
       "[300000 rows x 3 columns]"
      ]
     },
     "execution_count": 9,
     "metadata": {},
     "output_type": "execute_result"
    }
   ],
   "source": [
    "df[['origin', 'origin_airport_id', 'origin_city_name']]"
   ]
  },
  {
   "cell_type": "code",
   "execution_count": 11,
   "metadata": {},
   "outputs": [],
   "source": [
    "df['fl_date'] = pd.to_datetime(df['fl_date'])"
   ]
  },
  {
   "cell_type": "markdown",
   "metadata": {},
   "source": [
    "#### **Task 1**: Test the hypothesis that the delay is from Normal distribution. and that **mean** of the delay is 0. Be careful about the outliers."
   ]
  },
  {
   "cell_type": "code",
   "execution_count": 12,
   "metadata": {},
   "outputs": [],
   "source": [
    "df['month'] = df['fl_date'].dt.month"
   ]
  },
  {
   "cell_type": "code",
   "execution_count": 13,
   "metadata": {},
   "outputs": [
    {
     "data": {
      "text/plain": [
       "12"
      ]
     },
     "execution_count": 13,
     "metadata": {},
     "output_type": "execute_result"
    }
   ],
   "source": [
    "df['month'].nunique()"
   ]
  },
  {
   "cell_type": "code",
   "execution_count": 15,
   "metadata": {},
   "outputs": [
    {
     "data": {
      "text/plain": [
       "<seaborn.axisgrid.FacetGrid at 0x23005a11eb0>"
      ]
     },
     "execution_count": 15,
     "metadata": {},
     "output_type": "execute_result"
    },
    {
     "data": {
      "text/plain": [
       "<Figure size 1080x576 with 0 Axes>"
      ]
     },
     "metadata": {},
     "output_type": "display_data"
    },
    {
     "data": {
      "image/png": "[encoded data removed]",
      "text/plain": [
       "<Figure size 360x360 with 1 Axes>"
      ]
     },
     "metadata": {
      "needs_background": "light"
     },
     "output_type": "display_data"
    }
   ],
   "source": [
    "plt.figure(figsize=[15,8])\n",
    "sns.displot(x= df['arr_delay'])"
   ]
  },
  {
   "cell_type": "code",
   "execution_count": 16,
   "metadata": {},
   "outputs": [
    {
     "data": {
      "text/plain": [
       "count    293446.000000\n",
       "mean          5.692645\n",
       "std          52.461702\n",
       "min         -86.000000\n",
       "25%         -15.000000\n",
       "50%          -6.000000\n",
       "75%           8.000000\n",
       "max        1910.000000\n",
       "Name: arr_delay, dtype: float64"
      ]
     },
     "execution_count": 16,
     "metadata": {},
     "output_type": "execute_result"
    }
   ],
   "source": [
    "df['arr_delay'].describe()"
   ]
  },
  {
   "cell_type": "markdown",
   "metadata": {},
   "source": [
    "- Arr_delay does not follow normal distribution"
   ]
  },
  {
   "cell_type": "code",
   "execution_count": 17,
   "metadata": {},
   "outputs": [
    {
     "data": {
      "text/html": [
       "<div>\n",
       "<style scoped>\n",
       "    .dataframe tbody tr th:only-of-type {\n",
       "        vertical-align: middle;\n",
       "    }\n",
       "\n",
       "    .dataframe tbody tr th {\n",
       "        vertical-align: top;\n",
       "    }\n",
       "\n",
       "    .dataframe thead tr th {\n",
       "        text-align: left;\n",
       "    }\n",
       "\n",
       "    .dataframe thead tr:last-of-type th {\n",
       "        text-align: right;\n",
       "    }\n",
       "</style>\n",
       "<table border=\"1\" class=\"dataframe\">\n",
       "  <thead>\n",
       "    <tr>\n",
       "      <th></th>\n",
       "      <th colspan=\"3\" halign=\"left\">arr_delay</th>\n",
       "      <th colspan=\"3\" halign=\"left\">carrier_delay</th>\n",
       "      <th colspan=\"3\" halign=\"left\">weather_delay</th>\n",
       "      <th colspan=\"3\" halign=\"left\">nas_delay</th>\n",
       "      <th colspan=\"3\" halign=\"left\">security_delay</th>\n",
       "      <th colspan=\"3\" halign=\"left\">late_aircraft_delay</th>\n",
       "    </tr>\n",
       "    <tr>\n",
       "      <th></th>\n",
       "      <th>mean</th>\n",
       "      <th>median</th>\n",
       "      <th>sum</th>\n",
       "      <th>mean</th>\n",
       "      <th>median</th>\n",
       "      <th>sum</th>\n",
       "      <th>mean</th>\n",
       "      <th>median</th>\n",
       "      <th>sum</th>\n",
       "      <th>mean</th>\n",
       "      <th>median</th>\n",
       "      <th>sum</th>\n",
       "      <th>mean</th>\n",
       "      <th>median</th>\n",
       "      <th>sum</th>\n",
       "      <th>mean</th>\n",
       "      <th>median</th>\n",
       "      <th>sum</th>\n",
       "    </tr>\n",
       "    <tr>\n",
       "      <th>month</th>\n",
       "      <th></th>\n",
       "      <th></th>\n",
       "      <th></th>\n",
       "      <th></th>\n",
       "      <th></th>\n",
       "      <th></th>\n",
       "      <th></th>\n",
       "      <th></th>\n",
       "      <th></th>\n",
       "      <th></th>\n",
       "      <th></th>\n",
       "      <th></th>\n",
       "      <th></th>\n",
       "      <th></th>\n",
       "      <th></th>\n",
       "      <th></th>\n",
       "      <th></th>\n",
       "      <th></th>\n",
       "    </tr>\n",
       "  </thead>\n",
       "  <tbody>\n",
       "    <tr>\n",
       "      <th>1</th>\n",
       "      <td>190.375746</td>\n",
       "      <td>144.0</td>\n",
       "      <td>191518.0</td>\n",
       "      <td>55.319085</td>\n",
       "      <td>0.0</td>\n",
       "      <td>55651.0</td>\n",
       "      <td>19.294235</td>\n",
       "      <td>0.0</td>\n",
       "      <td>19410.0</td>\n",
       "      <td>39.561630</td>\n",
       "      <td>2.0</td>\n",
       "      <td>39799.0</td>\n",
       "      <td>0.203777</td>\n",
       "      <td>0.0</td>\n",
       "      <td>205.0</td>\n",
       "      <td>75.997018</td>\n",
       "      <td>49.5</td>\n",
       "      <td>76453.0</td>\n",
       "    </tr>\n",
       "    <tr>\n",
       "      <th>2</th>\n",
       "      <td>192.148180</td>\n",
       "      <td>142.0</td>\n",
       "      <td>226927.0</td>\n",
       "      <td>66.944115</td>\n",
       "      <td>0.0</td>\n",
       "      <td>79061.0</td>\n",
       "      <td>16.181202</td>\n",
       "      <td>0.0</td>\n",
       "      <td>19110.0</td>\n",
       "      <td>35.739204</td>\n",
       "      <td>3.0</td>\n",
       "      <td>42208.0</td>\n",
       "      <td>0.115157</td>\n",
       "      <td>0.0</td>\n",
       "      <td>136.0</td>\n",
       "      <td>73.168501</td>\n",
       "      <td>49.0</td>\n",
       "      <td>86412.0</td>\n",
       "    </tr>\n",
       "    <tr>\n",
       "      <th>3</th>\n",
       "      <td>181.686250</td>\n",
       "      <td>135.0</td>\n",
       "      <td>145349.0</td>\n",
       "      <td>72.798750</td>\n",
       "      <td>3.0</td>\n",
       "      <td>58239.0</td>\n",
       "      <td>11.907500</td>\n",
       "      <td>0.0</td>\n",
       "      <td>9526.0</td>\n",
       "      <td>24.843750</td>\n",
       "      <td>0.0</td>\n",
       "      <td>19875.0</td>\n",
       "      <td>0.000000</td>\n",
       "      <td>0.0</td>\n",
       "      <td>0.0</td>\n",
       "      <td>72.136250</td>\n",
       "      <td>44.5</td>\n",
       "      <td>57709.0</td>\n",
       "    </tr>\n",
       "    <tr>\n",
       "      <th>4</th>\n",
       "      <td>180.431934</td>\n",
       "      <td>136.0</td>\n",
       "      <td>176282.0</td>\n",
       "      <td>58.675537</td>\n",
       "      <td>2.0</td>\n",
       "      <td>57326.0</td>\n",
       "      <td>13.950870</td>\n",
       "      <td>0.0</td>\n",
       "      <td>13630.0</td>\n",
       "      <td>35.562948</td>\n",
       "      <td>0.0</td>\n",
       "      <td>34745.0</td>\n",
       "      <td>0.009212</td>\n",
       "      <td>0.0</td>\n",
       "      <td>9.0</td>\n",
       "      <td>72.233367</td>\n",
       "      <td>51.0</td>\n",
       "      <td>70572.0</td>\n",
       "    </tr>\n",
       "    <tr>\n",
       "      <th>5</th>\n",
       "      <td>176.989593</td>\n",
       "      <td>137.0</td>\n",
       "      <td>187078.0</td>\n",
       "      <td>50.650899</td>\n",
       "      <td>1.0</td>\n",
       "      <td>53538.0</td>\n",
       "      <td>15.305582</td>\n",
       "      <td>0.0</td>\n",
       "      <td>16178.0</td>\n",
       "      <td>34.773888</td>\n",
       "      <td>1.0</td>\n",
       "      <td>36756.0</td>\n",
       "      <td>0.028382</td>\n",
       "      <td>0.0</td>\n",
       "      <td>30.0</td>\n",
       "      <td>76.230842</td>\n",
       "      <td>66.0</td>\n",
       "      <td>80576.0</td>\n",
       "    </tr>\n",
       "    <tr>\n",
       "      <th>6</th>\n",
       "      <td>176.760931</td>\n",
       "      <td>142.5</td>\n",
       "      <td>250647.0</td>\n",
       "      <td>50.772214</td>\n",
       "      <td>1.0</td>\n",
       "      <td>71995.0</td>\n",
       "      <td>11.469676</td>\n",
       "      <td>0.0</td>\n",
       "      <td>16264.0</td>\n",
       "      <td>34.488011</td>\n",
       "      <td>2.0</td>\n",
       "      <td>48904.0</td>\n",
       "      <td>0.000000</td>\n",
       "      <td>0.0</td>\n",
       "      <td>0.0</td>\n",
       "      <td>80.031030</td>\n",
       "      <td>71.0</td>\n",
       "      <td>113484.0</td>\n",
       "    </tr>\n",
       "    <tr>\n",
       "      <th>7</th>\n",
       "      <td>187.330941</td>\n",
       "      <td>142.0</td>\n",
       "      <td>234913.0</td>\n",
       "      <td>57.251994</td>\n",
       "      <td>1.0</td>\n",
       "      <td>71794.0</td>\n",
       "      <td>14.527113</td>\n",
       "      <td>0.0</td>\n",
       "      <td>18217.0</td>\n",
       "      <td>36.688995</td>\n",
       "      <td>0.0</td>\n",
       "      <td>46008.0</td>\n",
       "      <td>0.200159</td>\n",
       "      <td>0.0</td>\n",
       "      <td>251.0</td>\n",
       "      <td>78.662679</td>\n",
       "      <td>54.5</td>\n",
       "      <td>98643.0</td>\n",
       "    </tr>\n",
       "    <tr>\n",
       "      <th>8</th>\n",
       "      <td>184.874463</td>\n",
       "      <td>139.0</td>\n",
       "      <td>215009.0</td>\n",
       "      <td>57.705073</td>\n",
       "      <td>0.0</td>\n",
       "      <td>67111.0</td>\n",
       "      <td>13.411866</td>\n",
       "      <td>0.0</td>\n",
       "      <td>15598.0</td>\n",
       "      <td>40.081685</td>\n",
       "      <td>1.0</td>\n",
       "      <td>46615.0</td>\n",
       "      <td>0.036973</td>\n",
       "      <td>0.0</td>\n",
       "      <td>43.0</td>\n",
       "      <td>73.638865</td>\n",
       "      <td>36.0</td>\n",
       "      <td>85642.0</td>\n",
       "    </tr>\n",
       "    <tr>\n",
       "      <th>9</th>\n",
       "      <td>193.390013</td>\n",
       "      <td>138.0</td>\n",
       "      <td>143302.0</td>\n",
       "      <td>76.408907</td>\n",
       "      <td>1.0</td>\n",
       "      <td>56619.0</td>\n",
       "      <td>12.326586</td>\n",
       "      <td>0.0</td>\n",
       "      <td>9134.0</td>\n",
       "      <td>37.269906</td>\n",
       "      <td>0.0</td>\n",
       "      <td>27617.0</td>\n",
       "      <td>0.000000</td>\n",
       "      <td>0.0</td>\n",
       "      <td>0.0</td>\n",
       "      <td>67.384615</td>\n",
       "      <td>12.0</td>\n",
       "      <td>49932.0</td>\n",
       "    </tr>\n",
       "    <tr>\n",
       "      <th>10</th>\n",
       "      <td>174.526976</td>\n",
       "      <td>135.0</td>\n",
       "      <td>139098.0</td>\n",
       "      <td>69.718946</td>\n",
       "      <td>5.0</td>\n",
       "      <td>55566.0</td>\n",
       "      <td>7.196989</td>\n",
       "      <td>0.0</td>\n",
       "      <td>5736.0</td>\n",
       "      <td>29.229611</td>\n",
       "      <td>0.0</td>\n",
       "      <td>23296.0</td>\n",
       "      <td>0.010038</td>\n",
       "      <td>0.0</td>\n",
       "      <td>8.0</td>\n",
       "      <td>68.371393</td>\n",
       "      <td>36.0</td>\n",
       "      <td>54492.0</td>\n",
       "    </tr>\n",
       "    <tr>\n",
       "      <th>11</th>\n",
       "      <td>194.568369</td>\n",
       "      <td>136.0</td>\n",
       "      <td>118103.0</td>\n",
       "      <td>73.385502</td>\n",
       "      <td>2.0</td>\n",
       "      <td>44545.0</td>\n",
       "      <td>11.927512</td>\n",
       "      <td>0.0</td>\n",
       "      <td>7240.0</td>\n",
       "      <td>25.080725</td>\n",
       "      <td>0.0</td>\n",
       "      <td>15224.0</td>\n",
       "      <td>0.151565</td>\n",
       "      <td>0.0</td>\n",
       "      <td>92.0</td>\n",
       "      <td>84.023064</td>\n",
       "      <td>77.0</td>\n",
       "      <td>51002.0</td>\n",
       "    </tr>\n",
       "    <tr>\n",
       "      <th>12</th>\n",
       "      <td>189.408759</td>\n",
       "      <td>143.5</td>\n",
       "      <td>207592.0</td>\n",
       "      <td>59.770985</td>\n",
       "      <td>1.0</td>\n",
       "      <td>65509.0</td>\n",
       "      <td>8.962591</td>\n",
       "      <td>0.0</td>\n",
       "      <td>9823.0</td>\n",
       "      <td>34.538321</td>\n",
       "      <td>0.0</td>\n",
       "      <td>37854.0</td>\n",
       "      <td>0.147810</td>\n",
       "      <td>0.0</td>\n",
       "      <td>162.0</td>\n",
       "      <td>85.989051</td>\n",
       "      <td>80.5</td>\n",
       "      <td>94244.0</td>\n",
       "    </tr>\n",
       "  </tbody>\n",
       "</table>\n",
       "</div>"
      ],
      "text/plain": [
       "        arr_delay                  carrier_delay                  \\\n",
       "             mean median       sum          mean median      sum   \n",
       "month                                                              \n",
       "1      190.375746  144.0  191518.0     55.319085    0.0  55651.0   \n",
       "2      192.148180  142.0  226927.0     66.944115    0.0  79061.0   \n",
       "3      181.686250  135.0  145349.0     72.798750    3.0  58239.0   \n",
       "4      180.431934  136.0  176282.0     58.675537    2.0  57326.0   \n",
       "5      176.989593  137.0  187078.0     50.650899    1.0  53538.0   \n",
       "6      176.760931  142.5  250647.0     50.772214    1.0  71995.0   \n",
       "7      187.330941  142.0  234913.0     57.251994    1.0  71794.0   \n",
       "8      184.874463  139.0  215009.0     57.705073    0.0  67111.0   \n",
       "9      193.390013  138.0  143302.0     76.408907    1.0  56619.0   \n",
       "10     174.526976  135.0  139098.0     69.718946    5.0  55566.0   \n",
       "11     194.568369  136.0  118103.0     73.385502    2.0  44545.0   \n",
       "12     189.408759  143.5  207592.0     59.770985    1.0  65509.0   \n",
       "\n",
       "      weather_delay                  nas_delay                 security_delay  \\\n",
       "               mean median      sum       mean median      sum           mean   \n",
       "month                                                                           \n",
       "1         19.294235    0.0  19410.0  39.561630    2.0  39799.0       0.203777   \n",
       "2         16.181202    0.0  19110.0  35.739204    3.0  42208.0       0.115157   \n",
       "3         11.907500    0.0   9526.0  24.843750    0.0  19875.0       0.000000   \n",
       "4         13.950870    0.0  13630.0  35.562948    0.0  34745.0       0.009212   \n",
       "5         15.305582    0.0  16178.0  34.773888    1.0  36756.0       0.028382   \n",
       "6         11.469676    0.0  16264.0  34.488011    2.0  48904.0       0.000000   \n",
       "7         14.527113    0.0  18217.0  36.688995    0.0  46008.0       0.200159   \n",
       "8         13.411866    0.0  15598.0  40.081685    1.0  46615.0       0.036973   \n",
       "9         12.326586    0.0   9134.0  37.269906    0.0  27617.0       0.000000   \n",
       "10         7.196989    0.0   5736.0  29.229611    0.0  23296.0       0.010038   \n",
       "11        11.927512    0.0   7240.0  25.080725    0.0  15224.0       0.151565   \n",
       "12         8.962591    0.0   9823.0  34.538321    0.0  37854.0       0.147810   \n",
       "\n",
       "                    late_aircraft_delay                   \n",
       "      median    sum                mean median       sum  \n",
       "month                                                     \n",
       "1        0.0  205.0           75.997018   49.5   76453.0  \n",
       "2        0.0  136.0           73.168501   49.0   86412.0  \n",
       "3        0.0    0.0           72.136250   44.5   57709.0  \n",
       "4        0.0    9.0           72.233367   51.0   70572.0  \n",
       "5        0.0   30.0           76.230842   66.0   80576.0  \n",
       "6        0.0    0.0           80.031030   71.0  113484.0  \n",
       "7        0.0  251.0           78.662679   54.5   98643.0  \n",
       "8        0.0   43.0           73.638865   36.0   85642.0  \n",
       "9        0.0    0.0           67.384615   12.0   49932.0  \n",
       "10       0.0    8.0           68.371393   36.0   54492.0  \n",
       "11       0.0   92.0           84.023064   77.0   51002.0  \n",
       "12       0.0  162.0           85.989051   80.5   94244.0  "
      ]
     },
     "execution_count": 17,
     "metadata": {},
     "output_type": "execute_result"
    }
   ],
   "source": [
    "df[df['arr_delay'] > 90][['month','arr_delay', 'carrier_delay', 'weather_delay',\n",
    "                           'nas_delay','security_delay', 'late_aircraft_delay']].groupby('month').agg(['mean', 'median', 'sum'])"
   ]
  },
  {
   "cell_type": "code",
   "execution_count": 21,
   "metadata": {},
   "outputs": [
    {
     "data": {
      "text/plain": [
       "(12097, 42)"
      ]
     },
     "execution_count": 21,
     "metadata": {},
     "output_type": "execute_result"
    }
   ],
   "source": [
    "df[df['arr_delay'] > 90].shape"
   ]
  },
  {
   "cell_type": "code",
   "execution_count": 22,
   "metadata": {},
   "outputs": [],
   "source": [
    "df_new = df[df['arr_delay'] < 90]"
   ]
  },
  {
   "cell_type": "code",
   "execution_count": 23,
   "metadata": {},
   "outputs": [
    {
     "name": "stderr",
     "output_type": "stream",
     "text": [
      "c:\\users\\nqhuy\\appdata\\local\\programs\\python\\python38\\lib\\site-packages\\seaborn\\distributions.py:2557: FutureWarning: `distplot` is a deprecated function and will be removed in a future version. Please adapt your code to use either `displot` (a figure-level function with similar flexibility) or `histplot` (an axes-level function for histograms).\n",
      "  warnings.warn(msg, FutureWarning)\n"
     ]
    },
    {
     "data": {
      "text/plain": [
       "<AxesSubplot:ylabel='Density'>"
      ]
     },
     "execution_count": 23,
     "metadata": {},
     "output_type": "execute_result"
    },
    {
     "data": {
      "image/png": "[encoded data removed]",
      "text/plain": [
       "<Figure size 432x288 with 1 Axes>"
      ]
     },
     "metadata": {
      "needs_background": "light"
     },
     "output_type": "display_data"
    }
   ],
   "source": [
    "sns.distplot(x= df_new['arr_delay'])"
   ]
  },
  {
   "cell_type": "code",
   "execution_count": 24,
   "metadata": {},
   "outputs": [
    {
     "data": {
      "text/plain": [
       "count    281165.000000\n",
       "mean         -2.069582\n",
       "std          21.724492\n",
       "min         -86.000000\n",
       "25%         -15.000000\n",
       "50%          -7.000000\n",
       "75%           5.000000\n",
       "max          89.000000\n",
       "Name: arr_delay, dtype: float64"
      ]
     },
     "execution_count": 24,
     "metadata": {},
     "output_type": "execute_result"
    }
   ],
   "source": [
    "df_new['arr_delay'].describe()"
   ]
  },
  {
   "cell_type": "code",
   "execution_count": 80,
   "metadata": {
    "scrolled": true
   },
   "outputs": [
    {
     "data": {
      "text/plain": [
       "<AxesSubplot:xlabel='month'>"
      ]
     },
     "execution_count": 80,
     "metadata": {},
     "output_type": "execute_result"
    },
    {
     "data": {
      "image/png": "[encoded data removed]",
      "text/plain": [
       "<Figure size 432x288 with 1 Axes>"
      ]
     },
     "metadata": {
      "needs_background": "light"
     },
     "output_type": "display_data"
    }
   ],
   "source": [
    "df[df['arr_delay'] > 0].groupby('month')['arr_delay'].count().plot()"
   ]
  },
  {
   "cell_type": "markdown",
   "metadata": {},
   "source": [
    "__- Number of delayed flight high in Feb, June and Dec__"
   ]
  },
  {
   "cell_type": "code",
   "execution_count": 79,
   "metadata": {
    "scrolled": true
   },
   "outputs": [
    {
     "data": {
      "text/plain": [
       "<AxesSubplot:xlabel='month'>"
      ]
     },
     "execution_count": 79,
     "metadata": {},
     "output_type": "execute_result"
    },
    {
     "data": {
      "image/png": "[encoded data removed]",
      "text/plain": [
       "<Figure size 432x288 with 1 Axes>"
      ]
     },
     "metadata": {
      "needs_background": "light"
     },
     "output_type": "display_data"
    }
   ],
   "source": [
    "df[df['arr_delay'] > 0].groupby('month')['arr_delay'].sum().plot()"
   ]
  },
  {
   "cell_type": "markdown",
   "metadata": {},
   "source": [
    "__- Total minis in delayed also high in Feb, June-Aug and Dec --> Holiday season__"
   ]
  },
  {
   "cell_type": "code",
   "execution_count": 29,
   "metadata": {
    "scrolled": true
   },
   "outputs": [
    {
     "data": {
      "text/plain": [
       "<AxesSubplot:xlabel='month'>"
      ]
     },
     "execution_count": 29,
     "metadata": {},
     "output_type": "execute_result"
    },
    {
     "data": {
      "image/png": "[encoded data removed]",
      "text/plain": [
       "<Figure size 432x288 with 1 Axes>"
      ]
     },
     "metadata": {
      "needs_background": "light"
     },
     "output_type": "display_data"
    }
   ],
   "source": [
    "df[df['arr_delay'] > 15].groupby('month')['arr_delay'].count().plot(kind = 'bar')"
   ]
  },
  {
   "cell_type": "code",
   "execution_count": 76,
   "metadata": {},
   "outputs": [
    {
     "data": {
      "text/plain": [
       "<AxesSubplot:xlabel='arr_delay', ylabel='dep_delay'>"
      ]
     },
     "execution_count": 76,
     "metadata": {},
     "output_type": "execute_result"
    },
    {
     "data": {
      "image/png": "[encoded data removed]",
      "text/plain": [
       "<Figure size 432x288 with 1 Axes>"
      ]
     },
     "metadata": {
      "needs_background": "light"
     },
     "output_type": "display_data"
    }
   ],
   "source": [
    "sns.scatterplot(data=df, x = 'arr_delay', y= 'dep_delay')"
   ]
  },
  {
   "cell_type": "markdown",
   "metadata": {},
   "source": [
    "#### **Task 2**: Is average/median monthly delay different during the year? If yes, which are months with the biggest delays and what could be the reason?"
   ]
  },
  {
   "cell_type": "code",
   "execution_count": 30,
   "metadata": {},
   "outputs": [
    {
     "data": {
      "text/html": [
       "<div>\n",
       "<style scoped>\n",
       "    .dataframe tbody tr th:only-of-type {\n",
       "        vertical-align: middle;\n",
       "    }\n",
       "\n",
       "    .dataframe tbody tr th {\n",
       "        vertical-align: top;\n",
       "    }\n",
       "\n",
       "    .dataframe thead th {\n",
       "        text-align: right;\n",
       "    }\n",
       "</style>\n",
       "<table border=\"1\" class=\"dataframe\">\n",
       "  <thead>\n",
       "    <tr style=\"text-align: right;\">\n",
       "      <th></th>\n",
       "      <th>min</th>\n",
       "      <th>max</th>\n",
       "      <th>mean</th>\n",
       "      <th>median</th>\n",
       "      <th>count</th>\n",
       "    </tr>\n",
       "    <tr>\n",
       "      <th>month</th>\n",
       "      <th></th>\n",
       "      <th></th>\n",
       "      <th></th>\n",
       "      <th></th>\n",
       "      <th></th>\n",
       "    </tr>\n",
       "  </thead>\n",
       "  <tbody>\n",
       "    <tr>\n",
       "      <th>1</th>\n",
       "      <td>-75.0</td>\n",
       "      <td>1407.0</td>\n",
       "      <td>5.176911</td>\n",
       "      <td>-7.0</td>\n",
       "      <td>24193</td>\n",
       "    </tr>\n",
       "    <tr>\n",
       "      <th>2</th>\n",
       "      <td>-76.0</td>\n",
       "      <td>1394.0</td>\n",
       "      <td>9.497241</td>\n",
       "      <td>-4.0</td>\n",
       "      <td>24107</td>\n",
       "    </tr>\n",
       "    <tr>\n",
       "      <th>3</th>\n",
       "      <td>-63.0</td>\n",
       "      <td>1407.0</td>\n",
       "      <td>3.372609</td>\n",
       "      <td>-7.0</td>\n",
       "      <td>24468</td>\n",
       "    </tr>\n",
       "    <tr>\n",
       "      <th>4</th>\n",
       "      <td>-63.0</td>\n",
       "      <td>1268.0</td>\n",
       "      <td>4.608039</td>\n",
       "      <td>-7.0</td>\n",
       "      <td>24357</td>\n",
       "    </tr>\n",
       "    <tr>\n",
       "      <th>5</th>\n",
       "      <td>-59.0</td>\n",
       "      <td>1265.0</td>\n",
       "      <td>6.472014</td>\n",
       "      <td>-6.0</td>\n",
       "      <td>24387</td>\n",
       "    </tr>\n",
       "    <tr>\n",
       "      <th>6</th>\n",
       "      <td>-61.0</td>\n",
       "      <td>1458.0</td>\n",
       "      <td>11.575727</td>\n",
       "      <td>-4.0</td>\n",
       "      <td>24397</td>\n",
       "    </tr>\n",
       "    <tr>\n",
       "      <th>7</th>\n",
       "      <td>-75.0</td>\n",
       "      <td>1521.0</td>\n",
       "      <td>8.757173</td>\n",
       "      <td>-6.0</td>\n",
       "      <td>24396</td>\n",
       "    </tr>\n",
       "    <tr>\n",
       "      <th>8</th>\n",
       "      <td>-60.0</td>\n",
       "      <td>1299.0</td>\n",
       "      <td>8.018593</td>\n",
       "      <td>-6.0</td>\n",
       "      <td>24472</td>\n",
       "    </tr>\n",
       "    <tr>\n",
       "      <th>9</th>\n",
       "      <td>-55.0</td>\n",
       "      <td>1523.0</td>\n",
       "      <td>1.033798</td>\n",
       "      <td>-9.0</td>\n",
       "      <td>24528</td>\n",
       "    </tr>\n",
       "    <tr>\n",
       "      <th>10</th>\n",
       "      <td>-64.0</td>\n",
       "      <td>1457.0</td>\n",
       "      <td>2.774864</td>\n",
       "      <td>-7.0</td>\n",
       "      <td>24745</td>\n",
       "    </tr>\n",
       "    <tr>\n",
       "      <th>11</th>\n",
       "      <td>-71.0</td>\n",
       "      <td>1910.0</td>\n",
       "      <td>0.323414</td>\n",
       "      <td>-8.0</td>\n",
       "      <td>24733</td>\n",
       "    </tr>\n",
       "    <tr>\n",
       "      <th>12</th>\n",
       "      <td>-86.0</td>\n",
       "      <td>1631.0</td>\n",
       "      <td>6.868305</td>\n",
       "      <td>-6.0</td>\n",
       "      <td>24663</td>\n",
       "    </tr>\n",
       "  </tbody>\n",
       "</table>\n",
       "</div>"
      ],
      "text/plain": [
       "        min     max       mean  median  count\n",
       "month                                        \n",
       "1     -75.0  1407.0   5.176911    -7.0  24193\n",
       "2     -76.0  1394.0   9.497241    -4.0  24107\n",
       "3     -63.0  1407.0   3.372609    -7.0  24468\n",
       "4     -63.0  1268.0   4.608039    -7.0  24357\n",
       "5     -59.0  1265.0   6.472014    -6.0  24387\n",
       "6     -61.0  1458.0  11.575727    -4.0  24397\n",
       "7     -75.0  1521.0   8.757173    -6.0  24396\n",
       "8     -60.0  1299.0   8.018593    -6.0  24472\n",
       "9     -55.0  1523.0   1.033798    -9.0  24528\n",
       "10    -64.0  1457.0   2.774864    -7.0  24745\n",
       "11    -71.0  1910.0   0.323414    -8.0  24733\n",
       "12    -86.0  1631.0   6.868305    -6.0  24663"
      ]
     },
     "execution_count": 30,
     "metadata": {},
     "output_type": "execute_result"
    }
   ],
   "source": [
    "df.groupby('month')['arr_delay'].agg(['min', 'max', 'mean', 'median', 'count'])"
   ]
  },
  {
   "cell_type": "markdown",
   "metadata": {},
   "source": [
    "__Same conclusion__"
   ]
  },
  {
   "cell_type": "markdown",
   "metadata": {},
   "source": [
    "#### **Task 3**: Does the weather affect the delay? \n",
    "Use the API to pull the weather information for flights. There is no need to get weather for ALL flights. We can choose the right representative sample. Let's focus on four weather types:\n",
    "- sunny\n",
    "- cloudy\n",
    "- rainy\n",
    "- snow.\n",
    "Test the hypothesis that these 4 delays are from the same distribution. If they are not, which ones are significantly different?"
   ]
  },
  {
   "cell_type": "code",
   "execution_count": null,
   "metadata": {},
   "outputs": [],
   "source": []
  },
  {
   "cell_type": "code",
   "execution_count": null,
   "metadata": {},
   "outputs": [],
   "source": []
  },
  {
   "cell_type": "markdown",
   "metadata": {},
   "source": [
    "#### **Task 4**: How taxi times changing during the day? Does higher traffic lead to bigger taxi times?"
   ]
  },
  {
   "cell_type": "code",
   "execution_count": null,
   "metadata": {},
   "outputs": [],
   "source": []
  },
  {
   "cell_type": "code",
   "execution_count": null,
   "metadata": {},
   "outputs": [],
   "source": []
  },
  {
   "cell_type": "markdown",
   "metadata": {},
   "source": [
    "#### **Task 5**: What is the average percentage of delays that is already created before departure? (aka are arrival delays caused by departure delays?) Are airlines able to lower the delay during the flights?"
   ]
  },
  {
   "cell_type": "code",
   "execution_count": 31,
   "metadata": {},
   "outputs": [
    {
     "data": {
      "text/plain": [
       "0.33411"
      ]
     },
     "execution_count": 31,
     "metadata": {},
     "output_type": "execute_result"
    }
   ],
   "source": [
    "# 33% of flights was departure delayed\n",
    "df[df.dep_delay>0].shape[0]/df.shape[0]"
   ]
  },
  {
   "cell_type": "code",
   "execution_count": 32,
   "metadata": {},
   "outputs": [
    {
     "data": {
      "text/plain": [
       "0.24282"
      ]
     },
     "execution_count": 32,
     "metadata": {},
     "output_type": "execute_result"
    }
   ],
   "source": [
    "# 24% of flight are arrival delays caused by departure delays\n",
    "df[(df.dep_delay>0) & (df.arr_delay>0)].shape[0]/df.shape[0]"
   ]
  },
  {
   "cell_type": "code",
   "execution_count": 33,
   "metadata": {},
   "outputs": [
    {
     "data": {
      "text/plain": [
       "0.08960666666666667"
      ]
     },
     "execution_count": 33,
     "metadata": {},
     "output_type": "execute_result"
    }
   ],
   "source": [
    "# 9% of flight are delayed in departure but arrive ontime or early\n",
    "df[(df.dep_delay>0) & (df.arr_delay<=0)].shape[0]/df.shape[0]"
   ]
  },
  {
   "cell_type": "code",
   "execution_count": null,
   "metadata": {},
   "outputs": [],
   "source": []
  },
  {
   "cell_type": "code",
   "execution_count": null,
   "metadata": {},
   "outputs": [],
   "source": []
  },
  {
   "cell_type": "code",
   "execution_count": null,
   "metadata": {},
   "outputs": [],
   "source": []
  },
  {
   "cell_type": "code",
   "execution_count": null,
   "metadata": {},
   "outputs": [],
   "source": []
  },
  {
   "cell_type": "markdown",
   "metadata": {},
   "source": [
    "#### **Task 6**: How many states cover 50% of US air traffic? "
   ]
  },
  {
   "cell_type": "code",
   "execution_count": 34,
   "metadata": {},
   "outputs": [
    {
     "data": {
      "text/plain": [
       "0            Boston, MA\n",
       "1             Tampa, FL\n",
       "2      Philadelphia, PA\n",
       "3        Manchester, NH\n",
       "4    Salt Lake City, UT\n",
       "Name: origin_city_name, dtype: object"
      ]
     },
     "execution_count": 34,
     "metadata": {},
     "output_type": "execute_result"
    }
   ],
   "source": [
    "df.origin_city_name.head()"
   ]
  },
  {
   "cell_type": "code",
   "execution_count": 45,
   "metadata": {},
   "outputs": [
    {
     "data": {
      "text/plain": [
       "300000"
      ]
     },
     "execution_count": 45,
     "metadata": {},
     "output_type": "execute_result"
    }
   ],
   "source": [
    "# state in origin airport (last 2 letters)\n",
    "origin_state= df.origin_city_name.str.split(pat=\", \",expand=True).iloc[:,1].tolist()\n",
    "len(origin_state)"
   ]
  },
  {
   "cell_type": "code",
   "execution_count": 39,
   "metadata": {},
   "outputs": [
    {
     "data": {
      "text/plain": [
       "0    Minneapolis, MN\n",
       "1        Phoenix, AZ\n",
       "2        Atlanta, GA\n",
       "3         Newark, NJ\n",
       "4        Orlando, FL\n",
       "Name: dest_city_name, dtype: object"
      ]
     },
     "execution_count": 39,
     "metadata": {},
     "output_type": "execute_result"
    }
   ],
   "source": [
    "df.dest_city_name.head()"
   ]
  },
  {
   "cell_type": "code",
   "execution_count": 46,
   "metadata": {},
   "outputs": [],
   "source": [
    "# state in destination airport, last 2 letters\n",
    "destination_state= df.dest_city_name.str.split(pat=\", \",expand=True).iloc[:,1].tolist()"
   ]
  },
  {
   "cell_type": "code",
   "execution_count": 61,
   "metadata": {},
   "outputs": [
    {
     "data": {
      "text/plain": [
       "600000"
      ]
     },
     "execution_count": 61,
     "metadata": {},
     "output_type": "execute_result"
    }
   ],
   "source": [
    "air_traffic= origin_state + destination_state\n",
    "len(air_traffic)"
   ]
  },
  {
   "cell_type": "code",
   "execution_count": 62,
   "metadata": {},
   "outputs": [
    {
     "data": {
      "text/plain": [
       "{'MA': 11603,\n",
       " 'FL': 43985,\n",
       " 'PA': 18067,\n",
       " 'NH': 859,\n",
       " 'UT': 9315,\n",
       " 'LA': 6450,\n",
       " 'MS': 1195,\n",
       " 'IN': 5489,\n",
       " 'TN': 11022,\n",
       " 'MO': 11094,\n",
       " 'NY': 30570,\n",
       " 'TX': 59753,\n",
       " 'IL': 37620,\n",
       " 'CA': 64538,\n",
       " 'GA': 31640,\n",
       " 'AK': 3107,\n",
       " 'PR': 2265,\n",
       " 'CO': 23904,\n",
       " 'NC': 28210,\n",
       " 'OH': 13403,\n",
       " 'MI': 16833,\n",
       " 'NE': 2564,\n",
       " 'AZ': 15620,\n",
       " 'WV': 625,\n",
       " 'NJ': 12245,\n",
       " 'AR': 2563,\n",
       " 'ME': 1548,\n",
       " 'NV': 14204,\n",
       " 'DC': 17610,\n",
       " 'WA': 17540,\n",
       " 'WI': 5204,\n",
       " 'ND': 1620,\n",
       " 'SC': 5393,\n",
       " 'MD': 7960,\n",
       " 'VA': 5962,\n",
       " 'HI': 9323,\n",
       " 'OK': 3523,\n",
       " 'IA': 2446,\n",
       " 'VI': 357,\n",
       " 'MN': 12535,\n",
       " 'OR': 8467,\n",
       " 'ID': 2469,\n",
       " 'KS': 1269,\n",
       " 'AL': 3530,\n",
       " 'KY': 3146,\n",
       " 'RI': 1436,\n",
       " 'NM': 2283,\n",
       " 'CT': 2298,\n",
       " 'MT': 2276,\n",
       " 'SD': 1267,\n",
       " 'VT': 909,\n",
       " 'WY': 774,\n",
       " 'TT': 112}"
      ]
     },
     "execution_count": 62,
     "metadata": {},
     "output_type": "execute_result"
    }
   ],
   "source": [
    "result= dict(collections.Counter(air_traffic))\n",
    "result"
   ]
  },
  {
   "cell_type": "code",
   "execution_count": 63,
   "metadata": {},
   "outputs": [
    {
     "data": {
      "text/html": [
       "<div>\n",
       "<style scoped>\n",
       "    .dataframe tbody tr th:only-of-type {\n",
       "        vertical-align: middle;\n",
       "    }\n",
       "\n",
       "    .dataframe tbody tr th {\n",
       "        vertical-align: top;\n",
       "    }\n",
       "\n",
       "    .dataframe thead th {\n",
       "        text-align: right;\n",
       "    }\n",
       "</style>\n",
       "<table border=\"1\" class=\"dataframe\">\n",
       "  <thead>\n",
       "    <tr style=\"text-align: right;\">\n",
       "      <th></th>\n",
       "      <th>index</th>\n",
       "      <th>0</th>\n",
       "    </tr>\n",
       "  </thead>\n",
       "  <tbody>\n",
       "    <tr>\n",
       "      <th>0</th>\n",
       "      <td>MA</td>\n",
       "      <td>11603</td>\n",
       "    </tr>\n",
       "    <tr>\n",
       "      <th>1</th>\n",
       "      <td>FL</td>\n",
       "      <td>43985</td>\n",
       "    </tr>\n",
       "    <tr>\n",
       "      <th>2</th>\n",
       "      <td>PA</td>\n",
       "      <td>18067</td>\n",
       "    </tr>\n",
       "    <tr>\n",
       "      <th>3</th>\n",
       "      <td>NH</td>\n",
       "      <td>859</td>\n",
       "    </tr>\n",
       "    <tr>\n",
       "      <th>4</th>\n",
       "      <td>UT</td>\n",
       "      <td>9315</td>\n",
       "    </tr>\n",
       "  </tbody>\n",
       "</table>\n",
       "</div>"
      ],
      "text/plain": [
       "  index      0\n",
       "0    MA  11603\n",
       "1    FL  43985\n",
       "2    PA  18067\n",
       "3    NH    859\n",
       "4    UT   9315"
      ]
     },
     "execution_count": 63,
     "metadata": {},
     "output_type": "execute_result"
    }
   ],
   "source": [
    "result= pd.Series(result,index=result.keys()).reset_index()\n",
    "result.head()"
   ]
  },
  {
   "cell_type": "code",
   "execution_count": 64,
   "metadata": {},
   "outputs": [],
   "source": [
    "# change column name and calculate percentage\n",
    "result.columns=['State','nbr_flights']\n",
    "result['percentage']= (result.nbr_flights/600000*100).round(2)"
   ]
  },
  {
   "cell_type": "code",
   "execution_count": 65,
   "metadata": {},
   "outputs": [
    {
     "data": {
      "text/plain": [
       "(53, 3)"
      ]
     },
     "execution_count": 65,
     "metadata": {},
     "output_type": "execute_result"
    }
   ],
   "source": [
    "result.shape\n",
    "# there are 53 states with flight operation"
   ]
  },
  {
   "cell_type": "code",
   "execution_count": 66,
   "metadata": {},
   "outputs": [
    {
     "data": {
      "text/html": [
       "<div>\n",
       "<style scoped>\n",
       "    .dataframe tbody tr th:only-of-type {\n",
       "        vertical-align: middle;\n",
       "    }\n",
       "\n",
       "    .dataframe tbody tr th {\n",
       "        vertical-align: top;\n",
       "    }\n",
       "\n",
       "    .dataframe thead th {\n",
       "        text-align: right;\n",
       "    }\n",
       "</style>\n",
       "<table border=\"1\" class=\"dataframe\">\n",
       "  <thead>\n",
       "    <tr style=\"text-align: right;\">\n",
       "      <th></th>\n",
       "      <th>State</th>\n",
       "      <th>nbr_flights</th>\n",
       "      <th>percentage</th>\n",
       "    </tr>\n",
       "  </thead>\n",
       "  <tbody>\n",
       "    <tr>\n",
       "      <th>13</th>\n",
       "      <td>CA</td>\n",
       "      <td>64538</td>\n",
       "      <td>10.76</td>\n",
       "    </tr>\n",
       "    <tr>\n",
       "      <th>11</th>\n",
       "      <td>TX</td>\n",
       "      <td>59753</td>\n",
       "      <td>9.96</td>\n",
       "    </tr>\n",
       "    <tr>\n",
       "      <th>1</th>\n",
       "      <td>FL</td>\n",
       "      <td>43985</td>\n",
       "      <td>7.33</td>\n",
       "    </tr>\n",
       "    <tr>\n",
       "      <th>12</th>\n",
       "      <td>IL</td>\n",
       "      <td>37620</td>\n",
       "      <td>6.27</td>\n",
       "    </tr>\n",
       "    <tr>\n",
       "      <th>14</th>\n",
       "      <td>GA</td>\n",
       "      <td>31640</td>\n",
       "      <td>5.27</td>\n",
       "    </tr>\n",
       "  </tbody>\n",
       "</table>\n",
       "</div>"
      ],
      "text/plain": [
       "   State  nbr_flights  percentage\n",
       "13    CA        64538       10.76\n",
       "11    TX        59753        9.96\n",
       "1     FL        43985        7.33\n",
       "12    IL        37620        6.27\n",
       "14    GA        31640        5.27"
      ]
     },
     "execution_count": 66,
     "metadata": {},
     "output_type": "execute_result"
    }
   ],
   "source": [
    "result.sort_values(by='percentage', ascending=False).head(5)\n",
    "# 2 States cover 50% of US air traffic"
   ]
  },
  {
   "cell_type": "code",
   "execution_count": null,
   "metadata": {},
   "outputs": [],
   "source": []
  },
  {
   "cell_type": "code",
   "execution_count": null,
   "metadata": {},
   "outputs": [],
   "source": []
  },
  {
   "cell_type": "markdown",
   "metadata": {},
   "source": [
    "#### **Task 7**: Test the hypothesis whether planes fly faster when there is the departure delay? "
   ]
  },
  {
   "cell_type": "code",
   "execution_count": null,
   "metadata": {},
   "outputs": [],
   "source": []
  },
  {
   "cell_type": "code",
   "execution_count": null,
   "metadata": {},
   "outputs": [],
   "source": []
  },
  {
   "cell_type": "markdown",
   "metadata": {},
   "source": [
    "#### **Task 8**: When (which hour) do most 'LONG', 'SHORT', 'MEDIUM' haul flights take off?"
   ]
  },
  {
   "cell_type": "code",
   "execution_count": 67,
   "metadata": {},
   "outputs": [
    {
     "data": {
      "text/plain": [
       "count    293446.0\n",
       "mean        108.0\n",
       "std          69.0\n",
       "min           8.0\n",
       "25%          58.0\n",
       "50%          89.0\n",
       "75%         137.0\n",
       "max         671.0\n",
       "Name: air_time, dtype: float64"
      ]
     },
     "execution_count": 67,
     "metadata": {},
     "output_type": "execute_result"
    }
   ],
   "source": [
    "df.air_time.describe().round(0)"
   ]
  },
  {
   "cell_type": "code",
   "execution_count": 68,
   "metadata": {},
   "outputs": [],
   "source": [
    "# classified type of flight based on flight duration\n",
    "df['flight_type']= np.where(df.air_time <180, \"SHORT\", np.where(df.air_time<360,\"MEDIUM\",\"LONG\"))"
   ]
  },
  {
   "cell_type": "code",
   "execution_count": 69,
   "metadata": {},
   "outputs": [
    {
     "data": {
      "text/html": [
       "<div>\n",
       "<style scoped>\n",
       "    .dataframe tbody tr th:only-of-type {\n",
       "        vertical-align: middle;\n",
       "    }\n",
       "\n",
       "    .dataframe tbody tr th {\n",
       "        vertical-align: top;\n",
       "    }\n",
       "\n",
       "    .dataframe thead th {\n",
       "        text-align: right;\n",
       "    }\n",
       "</style>\n",
       "<table border=\"1\" class=\"dataframe\">\n",
       "  <thead>\n",
       "    <tr style=\"text-align: right;\">\n",
       "      <th></th>\n",
       "      <th>air_time</th>\n",
       "      <th>flight_type</th>\n",
       "      <th>dep_time</th>\n",
       "    </tr>\n",
       "  </thead>\n",
       "  <tbody>\n",
       "    <tr>\n",
       "      <th>0</th>\n",
       "      <td>177.0</td>\n",
       "      <td>SHORT</td>\n",
       "      <td>1622.0</td>\n",
       "    </tr>\n",
       "    <tr>\n",
       "      <th>1</th>\n",
       "      <td>251.0</td>\n",
       "      <td>MEDIUM</td>\n",
       "      <td>1658.0</td>\n",
       "    </tr>\n",
       "    <tr>\n",
       "      <th>2</th>\n",
       "      <td>109.0</td>\n",
       "      <td>SHORT</td>\n",
       "      <td>1229.0</td>\n",
       "    </tr>\n",
       "    <tr>\n",
       "      <th>3</th>\n",
       "      <td>54.0</td>\n",
       "      <td>SHORT</td>\n",
       "      <td>1118.0</td>\n",
       "    </tr>\n",
       "    <tr>\n",
       "      <th>4</th>\n",
       "      <td>208.0</td>\n",
       "      <td>MEDIUM</td>\n",
       "      <td>1729.0</td>\n",
       "    </tr>\n",
       "  </tbody>\n",
       "</table>\n",
       "</div>"
      ],
      "text/plain": [
       "   air_time flight_type  dep_time\n",
       "0     177.0       SHORT    1622.0\n",
       "1     251.0      MEDIUM    1658.0\n",
       "2     109.0       SHORT    1229.0\n",
       "3      54.0       SHORT    1118.0\n",
       "4     208.0      MEDIUM    1729.0"
      ]
     },
     "execution_count": 69,
     "metadata": {},
     "output_type": "execute_result"
    }
   ],
   "source": [
    "df[['air_time','flight_type','dep_time']].head()"
   ]
  },
  {
   "cell_type": "code",
   "execution_count": 70,
   "metadata": {},
   "outputs": [
    {
     "data": {
      "text/plain": [
       "SHORT     254570\n",
       "MEDIUM     37733\n",
       "LONG        7697\n",
       "Name: flight_type, dtype: int64"
      ]
     },
     "execution_count": 70,
     "metadata": {},
     "output_type": "execute_result"
    }
   ],
   "source": [
    "df.flight_type.value_counts()\n",
    "# majority of flight are short_haul"
   ]
  },
  {
   "cell_type": "code",
   "execution_count": 71,
   "metadata": {},
   "outputs": [],
   "source": [
    "# take hour of departure\n",
    "df['dep_hour']= np.floor(df.dep_time/100)"
   ]
  },
  {
   "cell_type": "code",
   "execution_count": 72,
   "metadata": {},
   "outputs": [
    {
     "data": {
      "text/html": [
       "<div>\n",
       "<style scoped>\n",
       "    .dataframe tbody tr th:only-of-type {\n",
       "        vertical-align: middle;\n",
       "    }\n",
       "\n",
       "    .dataframe tbody tr th {\n",
       "        vertical-align: top;\n",
       "    }\n",
       "\n",
       "    .dataframe thead th {\n",
       "        text-align: right;\n",
       "    }\n",
       "</style>\n",
       "<table border=\"1\" class=\"dataframe\">\n",
       "  <thead>\n",
       "    <tr style=\"text-align: right;\">\n",
       "      <th></th>\n",
       "      <th>flight_type</th>\n",
       "      <th>dep_time</th>\n",
       "      <th>dep_hour</th>\n",
       "    </tr>\n",
       "  </thead>\n",
       "  <tbody>\n",
       "    <tr>\n",
       "      <th>0</th>\n",
       "      <td>SHORT</td>\n",
       "      <td>1622.0</td>\n",
       "      <td>16.0</td>\n",
       "    </tr>\n",
       "    <tr>\n",
       "      <th>1</th>\n",
       "      <td>MEDIUM</td>\n",
       "      <td>1658.0</td>\n",
       "      <td>16.0</td>\n",
       "    </tr>\n",
       "    <tr>\n",
       "      <th>2</th>\n",
       "      <td>SHORT</td>\n",
       "      <td>1229.0</td>\n",
       "      <td>12.0</td>\n",
       "    </tr>\n",
       "    <tr>\n",
       "      <th>3</th>\n",
       "      <td>SHORT</td>\n",
       "      <td>1118.0</td>\n",
       "      <td>11.0</td>\n",
       "    </tr>\n",
       "    <tr>\n",
       "      <th>4</th>\n",
       "      <td>MEDIUM</td>\n",
       "      <td>1729.0</td>\n",
       "      <td>17.0</td>\n",
       "    </tr>\n",
       "    <tr>\n",
       "      <th>5</th>\n",
       "      <td>SHORT</td>\n",
       "      <td>1546.0</td>\n",
       "      <td>15.0</td>\n",
       "    </tr>\n",
       "    <tr>\n",
       "      <th>6</th>\n",
       "      <td>SHORT</td>\n",
       "      <td>1753.0</td>\n",
       "      <td>17.0</td>\n",
       "    </tr>\n",
       "    <tr>\n",
       "      <th>7</th>\n",
       "      <td>SHORT</td>\n",
       "      <td>1037.0</td>\n",
       "      <td>10.0</td>\n",
       "    </tr>\n",
       "    <tr>\n",
       "      <th>8</th>\n",
       "      <td>SHORT</td>\n",
       "      <td>714.0</td>\n",
       "      <td>7.0</td>\n",
       "    </tr>\n",
       "    <tr>\n",
       "      <th>9</th>\n",
       "      <td>SHORT</td>\n",
       "      <td>2115.0</td>\n",
       "      <td>21.0</td>\n",
       "    </tr>\n",
       "  </tbody>\n",
       "</table>\n",
       "</div>"
      ],
      "text/plain": [
       "  flight_type  dep_time  dep_hour\n",
       "0       SHORT    1622.0      16.0\n",
       "1      MEDIUM    1658.0      16.0\n",
       "2       SHORT    1229.0      12.0\n",
       "3       SHORT    1118.0      11.0\n",
       "4      MEDIUM    1729.0      17.0\n",
       "5       SHORT    1546.0      15.0\n",
       "6       SHORT    1753.0      17.0\n",
       "7       SHORT    1037.0      10.0\n",
       "8       SHORT     714.0       7.0\n",
       "9       SHORT    2115.0      21.0"
      ]
     },
     "execution_count": 72,
     "metadata": {},
     "output_type": "execute_result"
    }
   ],
   "source": [
    "df[['flight_type','dep_time','dep_hour']].head(10)"
   ]
  },
  {
   "cell_type": "code",
   "execution_count": 73,
   "metadata": {},
   "outputs": [],
   "source": [
    "# for each flight type, count number of flight by dep_hour\n",
    "take_off_hour= df.groupby(['flight_type','dep_hour']).fl_date.count().reset_index()\n",
    "take_off_hour.columns=['flight_type',\"dep_hour\",\"nbr_flight\"]"
   ]
  },
  {
   "cell_type": "code",
   "execution_count": 74,
   "metadata": {},
   "outputs": [
    {
     "data": {
      "text/html": [
       "<div>\n",
       "<style scoped>\n",
       "    .dataframe tbody tr th:only-of-type {\n",
       "        vertical-align: middle;\n",
       "    }\n",
       "\n",
       "    .dataframe tbody tr th {\n",
       "        vertical-align: top;\n",
       "    }\n",
       "\n",
       "    .dataframe thead th {\n",
       "        text-align: right;\n",
       "    }\n",
       "</style>\n",
       "<table border=\"1\" class=\"dataframe\">\n",
       "  <thead>\n",
       "    <tr style=\"text-align: right;\">\n",
       "      <th></th>\n",
       "      <th>flight_type</th>\n",
       "      <th>dep_hour</th>\n",
       "      <th>nbr_flight</th>\n",
       "    </tr>\n",
       "  </thead>\n",
       "  <tbody>\n",
       "    <tr>\n",
       "      <th>0</th>\n",
       "      <td>LONG</td>\n",
       "      <td>0.0</td>\n",
       "      <td>6</td>\n",
       "    </tr>\n",
       "    <tr>\n",
       "      <th>1</th>\n",
       "      <td>LONG</td>\n",
       "      <td>1.0</td>\n",
       "      <td>8</td>\n",
       "    </tr>\n",
       "    <tr>\n",
       "      <th>2</th>\n",
       "      <td>LONG</td>\n",
       "      <td>3.0</td>\n",
       "      <td>1</td>\n",
       "    </tr>\n",
       "    <tr>\n",
       "      <th>3</th>\n",
       "      <td>LONG</td>\n",
       "      <td>4.0</td>\n",
       "      <td>1</td>\n",
       "    </tr>\n",
       "    <tr>\n",
       "      <th>4</th>\n",
       "      <td>LONG</td>\n",
       "      <td>5.0</td>\n",
       "      <td>36</td>\n",
       "    </tr>\n",
       "  </tbody>\n",
       "</table>\n",
       "</div>"
      ],
      "text/plain": [
       "  flight_type  dep_hour  nbr_flight\n",
       "0        LONG       0.0           6\n",
       "1        LONG       1.0           8\n",
       "2        LONG       3.0           1\n",
       "3        LONG       4.0           1\n",
       "4        LONG       5.0          36"
      ]
     },
     "execution_count": 74,
     "metadata": {},
     "output_type": "execute_result"
    }
   ],
   "source": [
    "take_off_hour.head()"
   ]
  },
  {
   "cell_type": "code",
   "execution_count": 64,
   "metadata": {},
   "outputs": [
    {
     "data": {
      "text/html": [
       "<div>\n",
       "<style scoped>\n",
       "    .dataframe tbody tr th:only-of-type {\n",
       "        vertical-align: middle;\n",
       "    }\n",
       "\n",
       "    .dataframe tbody tr th {\n",
       "        vertical-align: top;\n",
       "    }\n",
       "\n",
       "    .dataframe thead th {\n",
       "        text-align: right;\n",
       "    }\n",
       "</style>\n",
       "<table border=\"1\" class=\"dataframe\">\n",
       "  <thead>\n",
       "    <tr style=\"text-align: right;\">\n",
       "      <th></th>\n",
       "      <th>flight_type</th>\n",
       "      <th>dep_hour</th>\n",
       "      <th>nbr_flight</th>\n",
       "    </tr>\n",
       "  </thead>\n",
       "  <tbody>\n",
       "    <tr>\n",
       "      <th>58</th>\n",
       "      <td>SHORT</td>\n",
       "      <td>17.0</td>\n",
       "      <td>640</td>\n",
       "    </tr>\n",
       "    <tr>\n",
       "      <th>48</th>\n",
       "      <td>SHORT</td>\n",
       "      <td>7.0</td>\n",
       "      <td>634</td>\n",
       "    </tr>\n",
       "    <tr>\n",
       "      <th>52</th>\n",
       "      <td>SHORT</td>\n",
       "      <td>11.0</td>\n",
       "      <td>631</td>\n",
       "    </tr>\n",
       "    <tr>\n",
       "      <th>55</th>\n",
       "      <td>SHORT</td>\n",
       "      <td>14.0</td>\n",
       "      <td>623</td>\n",
       "    </tr>\n",
       "    <tr>\n",
       "      <th>56</th>\n",
       "      <td>SHORT</td>\n",
       "      <td>15.0</td>\n",
       "      <td>622</td>\n",
       "    </tr>\n",
       "    <tr>\n",
       "      <th>54</th>\n",
       "      <td>SHORT</td>\n",
       "      <td>13.0</td>\n",
       "      <td>618</td>\n",
       "    </tr>\n",
       "    <tr>\n",
       "      <th>59</th>\n",
       "      <td>SHORT</td>\n",
       "      <td>18.0</td>\n",
       "      <td>617</td>\n",
       "    </tr>\n",
       "    <tr>\n",
       "      <th>53</th>\n",
       "      <td>SHORT</td>\n",
       "      <td>12.0</td>\n",
       "      <td>617</td>\n",
       "    </tr>\n",
       "    <tr>\n",
       "      <th>47</th>\n",
       "      <td>SHORT</td>\n",
       "      <td>6.0</td>\n",
       "      <td>616</td>\n",
       "    </tr>\n",
       "    <tr>\n",
       "      <th>49</th>\n",
       "      <td>SHORT</td>\n",
       "      <td>8.0</td>\n",
       "      <td>594</td>\n",
       "    </tr>\n",
       "    <tr>\n",
       "      <th>51</th>\n",
       "      <td>SHORT</td>\n",
       "      <td>10.0</td>\n",
       "      <td>584</td>\n",
       "    </tr>\n",
       "    <tr>\n",
       "      <th>50</th>\n",
       "      <td>SHORT</td>\n",
       "      <td>9.0</td>\n",
       "      <td>579</td>\n",
       "    </tr>\n",
       "    <tr>\n",
       "      <th>57</th>\n",
       "      <td>SHORT</td>\n",
       "      <td>16.0</td>\n",
       "      <td>548</td>\n",
       "    </tr>\n",
       "    <tr>\n",
       "      <th>61</th>\n",
       "      <td>SHORT</td>\n",
       "      <td>20.0</td>\n",
       "      <td>508</td>\n",
       "    </tr>\n",
       "    <tr>\n",
       "      <th>60</th>\n",
       "      <td>SHORT</td>\n",
       "      <td>19.0</td>\n",
       "      <td>502</td>\n",
       "    </tr>\n",
       "    <tr>\n",
       "      <th>46</th>\n",
       "      <td>SHORT</td>\n",
       "      <td>5.0</td>\n",
       "      <td>442</td>\n",
       "    </tr>\n",
       "    <tr>\n",
       "      <th>62</th>\n",
       "      <td>SHORT</td>\n",
       "      <td>21.0</td>\n",
       "      <td>350</td>\n",
       "    </tr>\n",
       "    <tr>\n",
       "      <th>63</th>\n",
       "      <td>SHORT</td>\n",
       "      <td>22.0</td>\n",
       "      <td>247</td>\n",
       "    </tr>\n",
       "    <tr>\n",
       "      <th>64</th>\n",
       "      <td>SHORT</td>\n",
       "      <td>23.0</td>\n",
       "      <td>71</td>\n",
       "    </tr>\n",
       "    <tr>\n",
       "      <th>45</th>\n",
       "      <td>SHORT</td>\n",
       "      <td>4.0</td>\n",
       "      <td>31</td>\n",
       "    </tr>\n",
       "    <tr>\n",
       "      <th>41</th>\n",
       "      <td>SHORT</td>\n",
       "      <td>0.0</td>\n",
       "      <td>26</td>\n",
       "    </tr>\n",
       "    <tr>\n",
       "      <th>42</th>\n",
       "      <td>SHORT</td>\n",
       "      <td>1.0</td>\n",
       "      <td>13</td>\n",
       "    </tr>\n",
       "    <tr>\n",
       "      <th>44</th>\n",
       "      <td>SHORT</td>\n",
       "      <td>3.0</td>\n",
       "      <td>5</td>\n",
       "    </tr>\n",
       "    <tr>\n",
       "      <th>43</th>\n",
       "      <td>SHORT</td>\n",
       "      <td>2.0</td>\n",
       "      <td>2</td>\n",
       "    </tr>\n",
       "  </tbody>\n",
       "</table>\n",
       "</div>"
      ],
      "text/plain": [
       "   flight_type  dep_hour  nbr_flight\n",
       "58       SHORT      17.0         640\n",
       "48       SHORT       7.0         634\n",
       "52       SHORT      11.0         631\n",
       "55       SHORT      14.0         623\n",
       "56       SHORT      15.0         622\n",
       "54       SHORT      13.0         618\n",
       "59       SHORT      18.0         617\n",
       "53       SHORT      12.0         617\n",
       "47       SHORT       6.0         616\n",
       "49       SHORT       8.0         594\n",
       "51       SHORT      10.0         584\n",
       "50       SHORT       9.0         579\n",
       "57       SHORT      16.0         548\n",
       "61       SHORT      20.0         508\n",
       "60       SHORT      19.0         502\n",
       "46       SHORT       5.0         442\n",
       "62       SHORT      21.0         350\n",
       "63       SHORT      22.0         247\n",
       "64       SHORT      23.0          71\n",
       "45       SHORT       4.0          31\n",
       "41       SHORT       0.0          26\n",
       "42       SHORT       1.0          13\n",
       "44       SHORT       3.0           5\n",
       "43       SHORT       2.0           2"
      ]
     },
     "execution_count": 64,
     "metadata": {},
     "output_type": "execute_result"
    }
   ],
   "source": [
    "take_off_hour[take_off_hour.flight_type ==\"SHORT\"].sort_values('nbr_flight',ascending=False)\n",
    "# short-haul flight are take off in the afternoon "
   ]
  },
  {
   "cell_type": "code",
   "execution_count": 75,
   "metadata": {},
   "outputs": [
    {
     "data": {
      "text/html": [
       "<div>\n",
       "<style scoped>\n",
       "    .dataframe tbody tr th:only-of-type {\n",
       "        vertical-align: middle;\n",
       "    }\n",
       "\n",
       "    .dataframe tbody tr th {\n",
       "        vertical-align: top;\n",
       "    }\n",
       "\n",
       "    .dataframe thead th {\n",
       "        text-align: right;\n",
       "    }\n",
       "</style>\n",
       "<table border=\"1\" class=\"dataframe\">\n",
       "  <thead>\n",
       "    <tr style=\"text-align: right;\">\n",
       "      <th></th>\n",
       "      <th>flight_type</th>\n",
       "      <th>dep_hour</th>\n",
       "      <th>nbr_flight</th>\n",
       "    </tr>\n",
       "  </thead>\n",
       "  <tbody>\n",
       "    <tr>\n",
       "      <th>30</th>\n",
       "      <td>MEDIUM</td>\n",
       "      <td>7.0</td>\n",
       "      <td>2903</td>\n",
       "    </tr>\n",
       "    <tr>\n",
       "      <th>31</th>\n",
       "      <td>MEDIUM</td>\n",
       "      <td>8.0</td>\n",
       "      <td>2823</td>\n",
       "    </tr>\n",
       "    <tr>\n",
       "      <th>29</th>\n",
       "      <td>MEDIUM</td>\n",
       "      <td>6.0</td>\n",
       "      <td>2695</td>\n",
       "    </tr>\n",
       "    <tr>\n",
       "      <th>40</th>\n",
       "      <td>MEDIUM</td>\n",
       "      <td>17.0</td>\n",
       "      <td>2336</td>\n",
       "    </tr>\n",
       "    <tr>\n",
       "      <th>32</th>\n",
       "      <td>MEDIUM</td>\n",
       "      <td>9.0</td>\n",
       "      <td>2164</td>\n",
       "    </tr>\n",
       "    <tr>\n",
       "      <th>33</th>\n",
       "      <td>MEDIUM</td>\n",
       "      <td>10.0</td>\n",
       "      <td>2122</td>\n",
       "    </tr>\n",
       "    <tr>\n",
       "      <th>35</th>\n",
       "      <td>MEDIUM</td>\n",
       "      <td>12.0</td>\n",
       "      <td>2080</td>\n",
       "    </tr>\n",
       "    <tr>\n",
       "      <th>34</th>\n",
       "      <td>MEDIUM</td>\n",
       "      <td>11.0</td>\n",
       "      <td>2052</td>\n",
       "    </tr>\n",
       "    <tr>\n",
       "      <th>37</th>\n",
       "      <td>MEDIUM</td>\n",
       "      <td>14.0</td>\n",
       "      <td>1935</td>\n",
       "    </tr>\n",
       "    <tr>\n",
       "      <th>38</th>\n",
       "      <td>MEDIUM</td>\n",
       "      <td>15.0</td>\n",
       "      <td>1932</td>\n",
       "    </tr>\n",
       "    <tr>\n",
       "      <th>41</th>\n",
       "      <td>MEDIUM</td>\n",
       "      <td>18.0</td>\n",
       "      <td>1901</td>\n",
       "    </tr>\n",
       "    <tr>\n",
       "      <th>36</th>\n",
       "      <td>MEDIUM</td>\n",
       "      <td>13.0</td>\n",
       "      <td>1869</td>\n",
       "    </tr>\n",
       "    <tr>\n",
       "      <th>39</th>\n",
       "      <td>MEDIUM</td>\n",
       "      <td>16.0</td>\n",
       "      <td>1807</td>\n",
       "    </tr>\n",
       "    <tr>\n",
       "      <th>42</th>\n",
       "      <td>MEDIUM</td>\n",
       "      <td>19.0</td>\n",
       "      <td>1688</td>\n",
       "    </tr>\n",
       "    <tr>\n",
       "      <th>44</th>\n",
       "      <td>MEDIUM</td>\n",
       "      <td>21.0</td>\n",
       "      <td>1520</td>\n",
       "    </tr>\n",
       "    <tr>\n",
       "      <th>45</th>\n",
       "      <td>MEDIUM</td>\n",
       "      <td>22.0</td>\n",
       "      <td>1475</td>\n",
       "    </tr>\n",
       "    <tr>\n",
       "      <th>43</th>\n",
       "      <td>MEDIUM</td>\n",
       "      <td>20.0</td>\n",
       "      <td>1450</td>\n",
       "    </tr>\n",
       "    <tr>\n",
       "      <th>46</th>\n",
       "      <td>MEDIUM</td>\n",
       "      <td>23.0</td>\n",
       "      <td>1251</td>\n",
       "    </tr>\n",
       "    <tr>\n",
       "      <th>28</th>\n",
       "      <td>MEDIUM</td>\n",
       "      <td>5.0</td>\n",
       "      <td>866</td>\n",
       "    </tr>\n",
       "    <tr>\n",
       "      <th>23</th>\n",
       "      <td>MEDIUM</td>\n",
       "      <td>0.0</td>\n",
       "      <td>522</td>\n",
       "    </tr>\n",
       "    <tr>\n",
       "      <th>24</th>\n",
       "      <td>MEDIUM</td>\n",
       "      <td>1.0</td>\n",
       "      <td>164</td>\n",
       "    </tr>\n",
       "    <tr>\n",
       "      <th>27</th>\n",
       "      <td>MEDIUM</td>\n",
       "      <td>4.0</td>\n",
       "      <td>80</td>\n",
       "    </tr>\n",
       "    <tr>\n",
       "      <th>25</th>\n",
       "      <td>MEDIUM</td>\n",
       "      <td>2.0</td>\n",
       "      <td>55</td>\n",
       "    </tr>\n",
       "    <tr>\n",
       "      <th>26</th>\n",
       "      <td>MEDIUM</td>\n",
       "      <td>3.0</td>\n",
       "      <td>32</td>\n",
       "    </tr>\n",
       "    <tr>\n",
       "      <th>47</th>\n",
       "      <td>MEDIUM</td>\n",
       "      <td>24.0</td>\n",
       "      <td>11</td>\n",
       "    </tr>\n",
       "  </tbody>\n",
       "</table>\n",
       "</div>"
      ],
      "text/plain": [
       "   flight_type  dep_hour  nbr_flight\n",
       "30      MEDIUM       7.0        2903\n",
       "31      MEDIUM       8.0        2823\n",
       "29      MEDIUM       6.0        2695\n",
       "40      MEDIUM      17.0        2336\n",
       "32      MEDIUM       9.0        2164\n",
       "33      MEDIUM      10.0        2122\n",
       "35      MEDIUM      12.0        2080\n",
       "34      MEDIUM      11.0        2052\n",
       "37      MEDIUM      14.0        1935\n",
       "38      MEDIUM      15.0        1932\n",
       "41      MEDIUM      18.0        1901\n",
       "36      MEDIUM      13.0        1869\n",
       "39      MEDIUM      16.0        1807\n",
       "42      MEDIUM      19.0        1688\n",
       "44      MEDIUM      21.0        1520\n",
       "45      MEDIUM      22.0        1475\n",
       "43      MEDIUM      20.0        1450\n",
       "46      MEDIUM      23.0        1251\n",
       "28      MEDIUM       5.0         866\n",
       "23      MEDIUM       0.0         522\n",
       "24      MEDIUM       1.0         164\n",
       "27      MEDIUM       4.0          80\n",
       "25      MEDIUM       2.0          55\n",
       "26      MEDIUM       3.0          32\n",
       "47      MEDIUM      24.0          11"
      ]
     },
     "execution_count": 75,
     "metadata": {},
     "output_type": "execute_result"
    }
   ],
   "source": [
    "take_off_hour[take_off_hour.flight_type ==\"MEDIUM\"].sort_values('nbr_flight',ascending=False)\n",
    "# Medium flight often take off in the morning"
   ]
  },
  {
   "cell_type": "code",
   "execution_count": 66,
   "metadata": {},
   "outputs": [
    {
     "data": {
      "text/html": [
       "<div>\n",
       "<style scoped>\n",
       "    .dataframe tbody tr th:only-of-type {\n",
       "        vertical-align: middle;\n",
       "    }\n",
       "\n",
       "    .dataframe tbody tr th {\n",
       "        vertical-align: top;\n",
       "    }\n",
       "\n",
       "    .dataframe thead th {\n",
       "        text-align: right;\n",
       "    }\n",
       "</style>\n",
       "<table border=\"1\" class=\"dataframe\">\n",
       "  <thead>\n",
       "    <tr style=\"text-align: right;\">\n",
       "      <th></th>\n",
       "      <th>flight_type</th>\n",
       "      <th>dep_hour</th>\n",
       "      <th>nbr_flight</th>\n",
       "    </tr>\n",
       "  </thead>\n",
       "  <tbody>\n",
       "    <tr>\n",
       "      <th>10</th>\n",
       "      <td>LONG</td>\n",
       "      <td>17.0</td>\n",
       "      <td>7</td>\n",
       "    </tr>\n",
       "    <tr>\n",
       "      <th>2</th>\n",
       "      <td>LONG</td>\n",
       "      <td>7.0</td>\n",
       "      <td>6</td>\n",
       "    </tr>\n",
       "    <tr>\n",
       "      <th>9</th>\n",
       "      <td>LONG</td>\n",
       "      <td>15.0</td>\n",
       "      <td>6</td>\n",
       "    </tr>\n",
       "    <tr>\n",
       "      <th>5</th>\n",
       "      <td>LONG</td>\n",
       "      <td>10.0</td>\n",
       "      <td>5</td>\n",
       "    </tr>\n",
       "    <tr>\n",
       "      <th>6</th>\n",
       "      <td>LONG</td>\n",
       "      <td>11.0</td>\n",
       "      <td>5</td>\n",
       "    </tr>\n",
       "    <tr>\n",
       "      <th>11</th>\n",
       "      <td>LONG</td>\n",
       "      <td>18.0</td>\n",
       "      <td>5</td>\n",
       "    </tr>\n",
       "    <tr>\n",
       "      <th>12</th>\n",
       "      <td>LONG</td>\n",
       "      <td>19.0</td>\n",
       "      <td>4</td>\n",
       "    </tr>\n",
       "    <tr>\n",
       "      <th>13</th>\n",
       "      <td>LONG</td>\n",
       "      <td>20.0</td>\n",
       "      <td>3</td>\n",
       "    </tr>\n",
       "    <tr>\n",
       "      <th>1</th>\n",
       "      <td>LONG</td>\n",
       "      <td>6.0</td>\n",
       "      <td>2</td>\n",
       "    </tr>\n",
       "    <tr>\n",
       "      <th>4</th>\n",
       "      <td>LONG</td>\n",
       "      <td>9.0</td>\n",
       "      <td>2</td>\n",
       "    </tr>\n",
       "    <tr>\n",
       "      <th>15</th>\n",
       "      <td>LONG</td>\n",
       "      <td>23.0</td>\n",
       "      <td>2</td>\n",
       "    </tr>\n",
       "    <tr>\n",
       "      <th>0</th>\n",
       "      <td>LONG</td>\n",
       "      <td>5.0</td>\n",
       "      <td>1</td>\n",
       "    </tr>\n",
       "    <tr>\n",
       "      <th>3</th>\n",
       "      <td>LONG</td>\n",
       "      <td>8.0</td>\n",
       "      <td>1</td>\n",
       "    </tr>\n",
       "    <tr>\n",
       "      <th>7</th>\n",
       "      <td>LONG</td>\n",
       "      <td>12.0</td>\n",
       "      <td>1</td>\n",
       "    </tr>\n",
       "    <tr>\n",
       "      <th>8</th>\n",
       "      <td>LONG</td>\n",
       "      <td>14.0</td>\n",
       "      <td>1</td>\n",
       "    </tr>\n",
       "    <tr>\n",
       "      <th>14</th>\n",
       "      <td>LONG</td>\n",
       "      <td>22.0</td>\n",
       "      <td>1</td>\n",
       "    </tr>\n",
       "  </tbody>\n",
       "</table>\n",
       "</div>"
      ],
      "text/plain": [
       "   flight_type  dep_hour  nbr_flight\n",
       "10        LONG      17.0           7\n",
       "2         LONG       7.0           6\n",
       "9         LONG      15.0           6\n",
       "5         LONG      10.0           5\n",
       "6         LONG      11.0           5\n",
       "11        LONG      18.0           5\n",
       "12        LONG      19.0           4\n",
       "13        LONG      20.0           3\n",
       "1         LONG       6.0           2\n",
       "4         LONG       9.0           2\n",
       "15        LONG      23.0           2\n",
       "0         LONG       5.0           1\n",
       "3         LONG       8.0           1\n",
       "7         LONG      12.0           1\n",
       "8         LONG      14.0           1\n",
       "14        LONG      22.0           1"
      ]
     },
     "execution_count": 66,
     "metadata": {},
     "output_type": "execute_result"
    }
   ],
   "source": [
    "take_off_hour[take_off_hour.flight_type ==\"LONG\"].sort_values('nbr_flight',ascending=False)\n",
    "# Medium flight often take off in the morning"
   ]
  },
  {
   "cell_type": "code",
   "execution_count": null,
   "metadata": {},
   "outputs": [],
   "source": []
  },
  {
   "cell_type": "code",
   "execution_count": null,
   "metadata": {},
   "outputs": [],
   "source": []
  },
  {
   "cell_type": "code",
   "execution_count": null,
   "metadata": {},
   "outputs": [],
   "source": []
  },
  {
   "cell_type": "markdown",
   "metadata": {},
   "source": [
    "#### **Task 9**: Find the top 10 the bussiest airports. Does the biggest number of flights mean that the biggest number of passengers went through the particular airport? How much traffic do these 10 airports cover?"
   ]
  },
  {
   "cell_type": "code",
   "execution_count": null,
   "metadata": {},
   "outputs": [],
   "source": []
  },
  {
   "cell_type": "code",
   "execution_count": null,
   "metadata": {},
   "outputs": [],
   "source": []
  },
  {
   "cell_type": "markdown",
   "metadata": {},
   "source": [
    "#### **Task 10**: Do bigger delays lead to bigger fuel comsumption per passenger? \n",
    "We need to do four things to answer this as accurate as possible:\n",
    "- Find out average monthly delay per air carrier (monthly delay is sum of all delays in 1 month)\n",
    "- Find out distance covered monthly by different air carriers\n",
    "- Find out number of passengers that were carried by different air carriers\n",
    "- Find out total fuel comsumption per air carrier.\n",
    "\n",
    "Use this information to get the average fuel comsumption per passenger per km. Is this higher for the airlines with bigger average delays?"
   ]
  },
  {
   "cell_type": "code",
   "execution_count": null,
   "metadata": {},
   "outputs": [],
   "source": []
  },
  {
   "cell_type": "code",
   "execution_count": null,
   "metadata": {},
   "outputs": [],
   "source": []
  }
 ],
 "metadata": {
  "kernelspec": {
   "display_name": "Python 3 (ipykernel)",
   "language": "python",
   "name": "python3"
  },
  "language_info": {
   "codemirror_mode": {
    "name": "ipython",
    "version": 3
   },
   "file_extension": ".py",
   "mimetype": "text/x-python",
   "name": "python",
   "nbconvert_exporter": "python",
   "pygments_lexer": "ipython3",
   "version": "3.8.6"
  },
  "toc": {
   "base_numbering": 1,
   "nav_menu": {},
   "number_sections": true,
   "sideBar": true,
   "skip_h1_title": false,
   "title_cell": "Table of Contents",
   "title_sidebar": "Contents",
   "toc_cell": false,
   "toc_position": {},
   "toc_section_display": true,
   "toc_window_display": false
  },
  "varInspector": {
   "cols": {
    "lenName": 16,
    "lenType": 16,
    "lenVar": 40
   },
   "kernels_config": {
    "python": {
     "delete_cmd_postfix": "",
     "delete_cmd_prefix": "del ",
     "library": "var_list.py",
     "varRefreshCmd": "print(var_dic_list())"
    },
    "r": {
     "delete_cmd_postfix": ") ",
     "delete_cmd_prefix": "rm(",
     "library": "var_list.r",
     "varRefreshCmd": "cat(var_dic_list()) "
    }
   },
   "types_to_exclude": [
    "module",
    "function",
    "builtin_function_or_method",
    "instance",
    "_Feature"
   ],
   "window_display": false
  }
 },
 "nbformat": 4,
 "nbformat_minor": 4
}
